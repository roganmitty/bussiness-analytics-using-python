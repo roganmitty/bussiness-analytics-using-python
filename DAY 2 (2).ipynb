{
 "cells": [
  {
   "cell_type": "code",
   "execution_count": null,
   "id": "15aa0264-c498-423b-92b4-2c042082db5f",
   "metadata": {},
   "outputs": [],
   "source": []
  },
  {
   "cell_type": "code",
   "execution_count": 17,
   "id": "a9a5d2aa-758d-4126-b5c2-d0434334f636",
   "metadata": {},
   "outputs": [
    {
     "name": "stdin",
     "output_type": "stream",
     "text": [
      "enter a number 45\n"
     ]
    },
    {
     "name": "stdout",
     "output_type": "stream",
     "text": [
      "x is greater than 15\n"
     ]
    }
   ],
   "source": [
    "x=int(input(\"enter a number\"))\n",
    "if x > 15 :\n",
    "    print(\"x is greater than 15\")\n",
    "if x < 15 :\n",
    "    print(\"x is less than 15\")\n",
    "    "
   ]
  },
  {
   "cell_type": "code",
   "execution_count": 18,
   "id": "5ff86e1b-564d-4a61-a7a0-fbb75e42c20b",
   "metadata": {},
   "outputs": [],
   "source": [
    "x=15\n",
    "    "
   ]
  },
  {
   "cell_type": "code",
   "execution_count": 24,
   "id": "daa60c0b-608c-4f08-9d53-b52635b0288c",
   "metadata": {},
   "outputs": [
    {
     "name": "stdin",
     "output_type": "stream",
     "text": [
      "enter a number 15\n"
     ]
    },
    {
     "name": "stdout",
     "output_type": "stream",
     "text": [
      "x is same as 15\n"
     ]
    }
   ],
   "source": [
    "x=int(input(\"enter a number\"))\n",
    "if x > 15 :\n",
    "    print(\"x is greater than 15\")\n",
    "if x < 15 :\n",
    "    print(\"x is less than 15\")\n",
    "if x == 15 :\n",
    "    print(\"x is same as 15\")\n",
    "    "
   ]
  },
  {
   "cell_type": "code",
   "execution_count": 16,
   "id": "f1a82612-3066-4acd-b237-b197f99536b6",
   "metadata": {},
   "outputs": [
    {
     "name": "stdin",
     "output_type": "stream",
     "text": [
      "principle 5000\n",
      "time 4\n"
     ]
    }
   ],
   "source": [
    "x=int(input(\"principle\"))\n",
    "z=int(input(\"time\"))\n",
    "a=int(x)+(int(x)*int(y)*int(z))/100\n",
    "if z > 6 :\n",
    "    (y) = 10\n",
    "if z <= 6 :\n",
    "    (y) = 8\n",
    "   \n",
    "  \n"
   ]
  },
  {
   "cell_type": "code",
   "execution_count": 17,
   "id": "76c9c93d-c4a4-465f-9e47-d11609048b3f",
   "metadata": {},
   "outputs": [
    {
     "name": "stdout",
     "output_type": "stream",
     "text": [
      "6200.0\n"
     ]
    }
   ],
   "source": [
    "print(a)"
   ]
  },
  {
   "cell_type": "code",
   "execution_count": 21,
   "id": "96f5e221-d104-4805-a4bc-d63fdf25f1bd",
   "metadata": {},
   "outputs": [
    {
     "name": "stdin",
     "output_type": "stream",
     "text": [
      "principle 60000\n",
      "time 2\n"
     ]
    }
   ],
   "source": [
    "x=int(input(\"principle\"))\n",
    "z=int(input(\"time\"))\n",
    "a=int(x)+(int(x)*int(y)*int(z))/100\n",
    "if x >= 50000 :\n",
    "    (y) = 10\n",
    "if x < 50000 :\n",
    "    (y) = 8"
   ]
  },
  {
   "cell_type": "code",
   "execution_count": 22,
   "id": "f8e846c7-5cdf-4546-b3d2-dbe19d02e54c",
   "metadata": {},
   "outputs": [
    {
     "name": "stdout",
     "output_type": "stream",
     "text": [
      "69600.0\n"
     ]
    }
   ],
   "source": [
    "print(a)"
   ]
  },
  {
   "cell_type": "code",
   "execution_count": 28,
   "id": "17cdf046-edf0-41ca-922d-37e19b7f9f6d",
   "metadata": {},
   "outputs": [
    {
     "name": "stdin",
     "output_type": "stream",
     "text": [
      "first number 4\n",
      "second number 5\n",
      "FUNCTION 1\n"
     ]
    }
   ],
   "source": [
    "x=int(input(\"first number\"))\n",
    "y=int(input(\"second number\"))\n",
    "z=int(input(\"FUNCTION\"))\n",
    "if z == 1 :\n",
    "    a=x+y\n",
    "if z == 2 :\n",
    "    a=x-y\n",
    "if z == 3 :\n",
    "    a=x*y   "
   ]
  },
  {
   "cell_type": "code",
   "execution_count": 29,
   "id": "d69537e1-5853-4344-b87c-5ee51e1ca2e3",
   "metadata": {},
   "outputs": [
    {
     "name": "stdout",
     "output_type": "stream",
     "text": [
      "9\n"
     ]
    }
   ],
   "source": [
    "print(a)"
   ]
  },
  {
   "cell_type": "code",
   "execution_count": null,
   "id": "144eef8f-d179-491c-b9da-f7b2e5c84824",
   "metadata": {},
   "outputs": [],
   "source": []
  }
 ],
 "metadata": {
  "kernelspec": {
   "display_name": "Python 3",
   "language": "python",
   "name": "python3"
  },
  "language_info": {
   "codemirror_mode": {
    "name": "ipython",
    "version": 3
   },
   "file_extension": ".py",
   "mimetype": "text/x-python",
   "name": "python",
   "nbconvert_exporter": "python",
   "pygments_lexer": "ipython3",
   "version": "3.8.8"
  }
 },
 "nbformat": 4,
 "nbformat_minor": 5
}
