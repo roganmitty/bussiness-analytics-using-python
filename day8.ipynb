{
 "cells": [
  {
   "cell_type": "code",
   "execution_count": 6,
   "id": "b65df983-ceb5-48a9-a411-de8437308303",
   "metadata": {},
   "outputs": [
    {
     "name": "stdin",
     "output_type": "stream",
     "text": [
      "enter your salary 1600000\n"
     ]
    },
    {
     "name": "stdout",
     "output_type": "stream",
     "text": [
      "217500.0\n"
     ]
    }
   ],
   "source": [
    "x=int(input(\"enter your salary\"))\n",
    "if x <= 250000:\n",
    "    tax=0\n",
    "if (x <= 500000) and (x>250000):\n",
    "    tax=(x-250000)*5/100\n",
    "if (x <= 750000) and (x>500000):\n",
    "    tax=(x-500000)*10/100+12500\n",
    "if (x <= 1000000) and (x>750000):\n",
    "    tax=(x-750000)*15/100+37500\n",
    "if (x<=1250000) and (x>1000000):\n",
    "    tax=(x-1000000)*20/100+75000\n",
    "if (x<=1500000) and (x>1250000):\n",
    "    tax=(x-1250000)*25/100+125000\n",
    "if (x>1500000):\n",
    "    tax=(x-1500000)*30/100+187500\n",
    "print(tax)    \n",
    "    \n",
    "     \n",
    "\n",
    "    \n"
   ]
  },
  {
   "cell_type": "code",
   "execution_count": 3,
   "id": "39dc4b51-b90f-4524-a8e2-c2dfe5ca86cd",
   "metadata": {},
   "outputs": [
    {
     "name": "stdin",
     "output_type": "stream",
     "text": [
      "enter your salary 5445444\n"
     ]
    },
    {
     "name": "stdout",
     "output_type": "stream",
     "text": [
      "1371133.2\n"
     ]
    }
   ],
   "source": [
    "x=int(input(\"enter your salary\"))\n",
    "\n",
    "def shihas(a,b,c,d):\n",
    "    tax=(a-b)*c/100+d\n",
    "    return tax\n",
    "if x <= 250000:\n",
    "    tax=shihas(0,0,0,0)\n",
    "if (x <= 500000) and (x>250000):\n",
    "    tax=shihas(x,250000,5,0)\n",
    "if (x <= 750000) and (x>500000):\n",
    "    tax=shihas(x,500000,10,12500)\n",
    "if (x <= 1000000) and (x>750000):\n",
    "    tax=shihas(x, 750000,15,37500)\n",
    "if (x<=1250000) and (x>1000000):\n",
    "    tax=shihas(x,1000000,20,75000)\n",
    "if (x<=1500000) and (x>1250000):\n",
    "    tax=shihas(x,1250000,25,125000)\n",
    "if (x>1500000):\n",
    "    tax=shihas(x,1500000,30,187500)\n",
    "print(tax)    "
   ]
  },
  {
   "cell_type": "code",
   "execution_count": null,
   "id": "0144fd32-5ca4-418d-a5d5-69bb875f7a61",
   "metadata": {},
   "outputs": [],
   "source": []
  }
 ],
 "metadata": {
  "kernelspec": {
   "display_name": "Python 3",
   "language": "python",
   "name": "python3"
  },
  "language_info": {
   "codemirror_mode": {
    "name": "ipython",
    "version": 3
   },
   "file_extension": ".py",
   "mimetype": "text/x-python",
   "name": "python",
   "nbconvert_exporter": "python",
   "pygments_lexer": "ipython3",
   "version": "3.8.8"
  }
 },
 "nbformat": 4,
 "nbformat_minor": 5
}
