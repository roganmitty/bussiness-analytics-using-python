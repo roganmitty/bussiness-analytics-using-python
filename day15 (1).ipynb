{
 "cells": [
  {
   "cell_type": "code",
   "execution_count": 1,
   "id": "5619e02a-42b7-4417-b4f5-db8767e9caa8",
   "metadata": {},
   "outputs": [
    {
     "name": "stdin",
     "output_type": "stream",
     "text": [
      "enter your salary 5500000\n"
     ]
    },
    {
     "name": "stdout",
     "output_type": "stream",
     "text": [
      "1387500.0\n"
     ]
    }
   ],
   "source": [
    "\n",
    "    \n",
    "     `"
   ]
  },
  {
   "cell_type": "code",
   "execution_count": 19,
   "id": "fb5b3ec4-c16e-454e-a7a1-69a73075e1dc",
   "metadata": {},
   "outputs": [
    {
     "data": {
      "text/html": [
       "<div>\n",
       "<style scoped>\n",
       "    .dataframe tbody tr th:only-of-type {\n",
       "        vertical-align: middle;\n",
       "    }\n",
       "\n",
       "    .dataframe tbody tr th {\n",
       "        vertical-align: top;\n",
       "    }\n",
       "\n",
       "    .dataframe thead th {\n",
       "        text-align: right;\n",
       "    }\n",
       "</style>\n",
       "<table border=\"1\" class=\"dataframe\">\n",
       "  <thead>\n",
       "    <tr style=\"text-align: right;\">\n",
       "      <th></th>\n",
       "      <th>salary</th>\n",
       "      <th>age</th>\n",
       "      <th>hra</th>\n",
       "    </tr>\n",
       "  </thead>\n",
       "  <tbody>\n",
       "    <tr>\n",
       "      <th>0</th>\n",
       "      <td>250000</td>\n",
       "      <td>60</td>\n",
       "      <td>25000</td>\n",
       "    </tr>\n",
       "    <tr>\n",
       "      <th>1</th>\n",
       "      <td>500000</td>\n",
       "      <td>50</td>\n",
       "      <td>50000</td>\n",
       "    </tr>\n",
       "    <tr>\n",
       "      <th>2</th>\n",
       "      <td>750000</td>\n",
       "      <td>30</td>\n",
       "      <td>80000</td>\n",
       "    </tr>\n",
       "    <tr>\n",
       "      <th>3</th>\n",
       "      <td>1000000</td>\n",
       "      <td>55</td>\n",
       "      <td>4000</td>\n",
       "    </tr>\n",
       "    <tr>\n",
       "      <th>4</th>\n",
       "      <td>1250000</td>\n",
       "      <td>77</td>\n",
       "      <td>15000</td>\n",
       "    </tr>\n",
       "    <tr>\n",
       "      <th>5</th>\n",
       "      <td>1500000</td>\n",
       "      <td>25</td>\n",
       "      <td>40000</td>\n",
       "    </tr>\n",
       "  </tbody>\n",
       "</table>\n",
       "</div>"
      ],
      "text/plain": [
       "    salary  age    hra\n",
       "0   250000   60  25000\n",
       "1   500000   50  50000\n",
       "2   750000   30  80000\n",
       "3  1000000   55   4000\n",
       "4  1250000   77  15000\n",
       "5  1500000   25  40000"
      ]
     },
     "execution_count": 19,
     "metadata": {},
     "output_type": "execute_result"
    }
   ],
   "source": [
    "import pandas as pd \n",
    "df=pd.read_excel(\"sample3.xlsx\")\n",
    "df"
   ]
  },
  {
   "cell_type": "code",
   "execution_count": 6,
   "id": "25b8c3a8-48f2-43c0-8aaf-f726e06f5683",
   "metadata": {},
   "outputs": [
    {
     "name": "stdout",
     "output_type": "stream",
     "text": [
      "75000.0\n"
     ]
    }
   ],
   "source": [
    "x=df.loc[3, \"salary\"]\n",
    "if x <= 250000:\n",
    "    tax=0\n",
    "if (x <= 500000) and (x>250000):\n",
    "    tax=(x-250000)*5/100\n",
    "if (x <= 750000) and (x>500000):\n",
    "    tax=(x-500000)*10/100+12500\n",
    "if (x <= 1000000) and (x>750000):\n",
    "    tax=(x-750000)*15/100+37500\n",
    "if (x<=1250000) and (x>1000000):\n",
    "    tax=(x-1000000)*20/100+75000\n",
    "if (x<=1500000) and (x>1250000):\n",
    "    tax=(x-1250000)*25/100+125000\n",
    "if (x>1500000):\n",
    "    tax=(x-1500000)*30/100+187500\n",
    "print(tax)    \n",
    "    "
   ]
  },
  {
   "cell_type": "code",
   "execution_count": 26,
   "id": "cd5383ab-f549-4332-b0d4-d301c8bf27a9",
   "metadata": {},
   "outputs": [
    {
     "name": "stdout",
     "output_type": "stream",
     "text": [
      "-175000.0\n"
     ]
    }
   ],
   "source": [
    "x=df.loc[1, \"salary\"]\n",
    "y=df.loc[1, \"age\"]\n",
    "z=df.loc[1, \"hra\"]\n",
    "if x <= 250000 and y <=60:\n",
    "    tax=0\n",
    "if (x <= 500000) and (x>250000) and y<=60:\n",
    "    tax=x*10/100\n",
    "if (x>500000) and (x<=1000000) and y<=60:\n",
    "    tax=x*20/100\n",
    "if (x>1000000) and y<=60:\n",
    "    tax=x*30/100\n",
    "if (x<=300000) and y>60 and y<=80:\n",
    "    tax=0\n",
    "if y>60 and y<=80 and (x>300000) and x<=500000:\n",
    "    tax=x*10/100\n",
    "if y>60 and y<=80 and x>500000 and x<=1000000:\n",
    "    tax=x*20/100\n",
    "if y>60 and y<=80 and x>1000000:\n",
    "    tax=x*30/100\n",
    "if y>80 and x<=500000:\n",
    "    tax=0\n",
    "if y>80 and x>500000 and x<=1000000:\n",
    "    tax=x*20/100\n",
    "if y>80 and y<=100 and x>1000000:\n",
    "    tax=x*30/100\n",
    "    \n",
    "    \n",
    "\n",
    "\n",
    "\n",
    "if z<(10/100)*x:\n",
    "    tax2=0\n",
    "if z>=(10/100)*x:\n",
    "    tax2=(50/100)*(z-x)\n",
    "total=tax+tax2\n",
    "print(total)"
   ]
  },
  {
   "cell_type": "code",
   "execution_count": null,
   "id": "d1335b5c-1af3-4467-a9c3-8902a7bbe533",
   "metadata": {},
   "outputs": [],
   "source": []
  }
 ],
 "metadata": {
  "kernelspec": {
   "display_name": "Python 3",
   "language": "python",
   "name": "python3"
  },
  "language_info": {
   "codemirror_mode": {
    "name": "ipython",
    "version": 3
   },
   "file_extension": ".py",
   "mimetype": "text/x-python",
   "name": "python",
   "nbconvert_exporter": "python",
   "pygments_lexer": "ipython3",
   "version": "3.8.8"
  }
 },
 "nbformat": 4,
 "nbformat_minor": 5
}
