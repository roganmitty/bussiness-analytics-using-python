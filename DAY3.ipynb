{
 "cells": [
  {
   "cell_type": "code",
   "execution_count": 3,
   "id": "e1084737-bbcd-486e-8e5f-c4688ff9f206",
   "metadata": {},
   "outputs": [
    {
     "name": "stdin",
     "output_type": "stream",
     "text": [
      "enter a number 0\n"
     ]
    },
    {
     "name": "stdout",
     "output_type": "stream",
     "text": [
      "number is zero\n"
     ]
    }
   ],
   "source": [
    "x=int(input(\"enter a number\"))\n",
    "if x > 0 :\n",
    "    print(\"number is positive\")\n",
    "if x == 0 :\n",
    "    print(\"number is zero\")\n",
    "if x < 0 :\n",
    "    print(\"number is negative\")"
   ]
  },
  {
   "cell_type": "code",
   "execution_count": 6,
   "id": "431f9303-79c2-4f60-81d4-71204b44a228",
   "metadata": {},
   "outputs": [
    {
     "name": "stdin",
     "output_type": "stream",
     "text": [
      "enter a number 0\n"
     ]
    },
    {
     "name": "stdout",
     "output_type": "stream",
     "text": [
      "x is zero\n"
     ]
    }
   ],
   "source": [
    "x=int(input(\"enter a number\"))\n",
    "if x >= 0 :\n",
    "    if x == 0 :\n",
    "        print(\"x is zero\")\n",
    "    else :\n",
    "        print(\"x is positive\")\n",
    "else :\n",
    "    print(\"x is negative\")\n",
    "\n"
   ]
  },
  {
   "cell_type": "code",
   "execution_count": 22,
   "id": "cbce3f9a-b2bc-43c2-b158-49685e8e52d2",
   "metadata": {},
   "outputs": [
    {
     "name": "stdin",
     "output_type": "stream",
     "text": [
      "principle 50010\n",
      "time 6\n"
     ]
    }
   ],
   "source": [
    "x=int(input(\"principle\"))\n",
    "z=int(input(\"time\"))\n",
    "a=(x)*(y)*(z)/100+(x)\n",
    "if z <= 6 :\n",
    "    if z < 6 :\n",
    "       y = 8\n",
    "    else :\n",
    "        y = 8\n",
    "else :\n",
    "    y = 10 \n",
    "if x > 50000 :\n",
    "    y = 10\n"
   ]
  },
  {
   "cell_type": "code",
   "execution_count": 23,
   "id": "2aaef6a1-3824-4f24-83b8-c35ab8c61977",
   "metadata": {},
   "outputs": [
    {
     "name": "stdout",
     "output_type": "stream",
     "text": [
      "80016.0\n"
     ]
    }
   ],
   "source": [
    "print(a)"
   ]
  },
  {
   "cell_type": "code",
   "execution_count": 24,
   "id": "f13bf03b-2eb7-4b87-9ba9-b23d2be7a944",
   "metadata": {},
   "outputs": [
    {
     "data": {
      "text/plain": [
       "'s'"
      ]
     },
     "execution_count": 24,
     "metadata": {},
     "output_type": "execute_result"
    }
   ],
   "source": [
    "x=\"shane is from thrisur\"\n",
    "x[0]"
   ]
  },
  {
   "cell_type": "code",
   "execution_count": 25,
   "id": "6c0abf13-2dd3-4ea2-bfd0-c1f21b14d97c",
   "metadata": {},
   "outputs": [
    {
     "data": {
      "text/plain": [
       "'SHANE IS FROM THRISUR'"
      ]
     },
     "execution_count": 25,
     "metadata": {},
     "output_type": "execute_result"
    }
   ],
   "source": [
    "x.upper()"
   ]
  },
  {
   "cell_type": "code",
   "execution_count": 26,
   "id": "fd02b268-c1c5-4c75-8901-0f91ffacc945",
   "metadata": {},
   "outputs": [
    {
     "data": {
      "text/plain": [
       "'shane is from thrisur'"
      ]
     },
     "execution_count": 26,
     "metadata": {},
     "output_type": "execute_result"
    }
   ],
   "source": [
    "x.lower()"
   ]
  },
  {
   "cell_type": "code",
   "execution_count": 28,
   "id": "cd45bf8e-6a4f-4f4c-9b77-695d95730c3e",
   "metadata": {},
   "outputs": [
    {
     "data": {
      "text/plain": [
       "('', 'shane', ' is from thrisur')"
      ]
     },
     "execution_count": 28,
     "metadata": {},
     "output_type": "execute_result"
    }
   ],
   "source": [
    "x.partition(\"shane\")"
   ]
  },
  {
   "cell_type": "code",
   "execution_count": 29,
   "id": "c31b5765-32c7-4906-8be5-2e1112c56dae",
   "metadata": {},
   "outputs": [
    {
     "data": {
      "text/plain": [
       "['', ' is from thrisur']"
      ]
     },
     "execution_count": 29,
     "metadata": {},
     "output_type": "execute_result"
    }
   ],
   "source": [
    "x.split(\"shane\")"
   ]
  },
  {
   "cell_type": "code",
   "execution_count": 34,
   "id": "575440cf-ed57-423f-85db-1e2f15e59ae1",
   "metadata": {},
   "outputs": [
    {
     "data": {
      "text/plain": [
       "True"
      ]
     },
     "execution_count": 34,
     "metadata": {},
     "output_type": "execute_result"
    }
   ],
   "source": [
    "x.startswith(\"s\")"
   ]
  },
  {
   "cell_type": "code",
   "execution_count": 36,
   "id": "ee021253-e74e-49ad-8a5b-0d5cf7847b95",
   "metadata": {},
   "outputs": [
    {
     "data": {
      "text/plain": [
       "3"
      ]
     },
     "execution_count": 36,
     "metadata": {},
     "output_type": "execute_result"
    }
   ],
   "source": [
    "x.count(\"s\")"
   ]
  },
  {
   "cell_type": "code",
   "execution_count": 37,
   "id": "06a102a4-f8be-4479-86d4-b6f04a431801",
   "metadata": {},
   "outputs": [],
   "source": [
    "x=\"this is ernakulam\""
   ]
  },
  {
   "cell_type": "code",
   "execution_count": 38,
   "id": "b4a0e3b5-6124-45e7-9cd6-b176e99560e5",
   "metadata": {},
   "outputs": [
    {
     "data": {
      "text/plain": [
       "2"
      ]
     },
     "execution_count": 38,
     "metadata": {},
     "output_type": "execute_result"
    }
   ],
   "source": [
    "x.count(\"i\")"
   ]
  },
  {
   "cell_type": "code",
   "execution_count": 41,
   "id": "8560db19-276a-47a0-85ec-d8f95801453a",
   "metadata": {},
   "outputs": [
    {
     "data": {
      "text/plain": [
       "1"
      ]
     },
     "execution_count": 41,
     "metadata": {},
     "output_type": "execute_result"
    }
   ],
   "source": [
    "x.count(\"i\",3,6)"
   ]
  },
  {
   "cell_type": "code",
   "execution_count": 42,
   "id": "0f932fd6-43a4-450b-9394-7bb743e30f92",
   "metadata": {},
   "outputs": [
    {
     "data": {
      "text/plain": [
       "8"
      ]
     },
     "execution_count": 42,
     "metadata": {},
     "output_type": "execute_result"
    }
   ],
   "source": [
    "x.index(\"e\")"
   ]
  },
  {
   "cell_type": "code",
   "execution_count": 45,
   "id": "3f6e61e7-a9a0-4566-bf3f-60a0d0fa11fa",
   "metadata": {},
   "outputs": [
    {
     "data": {
      "text/plain": [
       "12"
      ]
     },
     "execution_count": 45,
     "metadata": {},
     "output_type": "execute_result"
    }
   ],
   "source": [
    "x.index(\"k\")"
   ]
  },
  {
   "cell_type": "code",
   "execution_count": 46,
   "id": "fe3e6cf8-a833-42fc-8175-115cfb51c885",
   "metadata": {},
   "outputs": [
    {
     "data": {
      "text/plain": [
       "2"
      ]
     },
     "execution_count": 46,
     "metadata": {},
     "output_type": "execute_result"
    }
   ],
   "source": [
    "x.index(\"i\")"
   ]
  },
  {
   "cell_type": "code",
   "execution_count": 47,
   "id": "9b8fc2b6-f2d3-4dca-b07d-120360dbfc37",
   "metadata": {},
   "outputs": [],
   "source": [
    "x=\"ABCD123\""
   ]
  },
  {
   "cell_type": "code",
   "execution_count": 48,
   "id": "5788a959-69fe-4ffc-aaab-3b83529dc1ba",
   "metadata": {},
   "outputs": [
    {
     "data": {
      "text/plain": [
       "True"
      ]
     },
     "execution_count": 48,
     "metadata": {},
     "output_type": "execute_result"
    }
   ],
   "source": [
    "x.isalnum()"
   ]
  },
  {
   "cell_type": "code",
   "execution_count": 50,
   "id": "926497d3-1ce6-4347-8857-25addd848793",
   "metadata": {},
   "outputs": [],
   "source": [
    "user=\"ABCD\""
   ]
  },
  {
   "cell_type": "code",
   "execution_count": 51,
   "id": "3b89bb5c-19c5-4c2b-877b-9d38ad4670db",
   "metadata": {},
   "outputs": [],
   "source": [
    "password=1234"
   ]
  },
  {
   "cell_type": "code",
   "execution_count": 5,
   "id": "f39a3050-7978-4608-b54f-1c80f1fb0ad6",
   "metadata": {},
   "outputs": [
    {
     "ename": "SyntaxError",
     "evalue": "invalid syntax (<ipython-input-5-6427ab6cdfa3>, line 7)",
     "output_type": "error",
     "traceback": [
      "\u001b[1;36m  File \u001b[1;32m\"<ipython-input-5-6427ab6cdfa3>\"\u001b[1;36m, line \u001b[1;32m7\u001b[0m\n\u001b[1;33m    if y == (a)\u001b[0m\n\u001b[1;37m               ^\u001b[0m\n\u001b[1;31mSyntaxError\u001b[0m\u001b[1;31m:\u001b[0m invalid syntax\n"
     ]
    }
   ],
   "source": [
    "user=\"ABCD\"\n",
    "password=\"1234\"\n",
    "x=input(\"enter username\"))\n",
    "y=int(input(\"eneter password\"))\n",
    "if x == b :\n",
    "    print(\"correct\")\n",
    "if y == (a)\n",
    "print(\"correct\")\n",
    "\n",
    "    \n",
    "\n"
   ]
  },
  {
   "cell_type": "code",
   "execution_count": null,
   "id": "cfb54a99-c319-4ebe-b8c2-5e32d7090a6b",
   "metadata": {},
   "outputs": [],
   "source": []
  }
 ],
 "metadata": {
  "kernelspec": {
   "display_name": "Python 3",
   "language": "python",
   "name": "python3"
  },
  "language_info": {
   "codemirror_mode": {
    "name": "ipython",
    "version": 3
   },
   "file_extension": ".py",
   "mimetype": "text/x-python",
   "name": "python",
   "nbconvert_exporter": "python",
   "pygments_lexer": "ipython3",
   "version": "3.8.8"
  }
 },
 "nbformat": 4,
 "nbformat_minor": 5
}
