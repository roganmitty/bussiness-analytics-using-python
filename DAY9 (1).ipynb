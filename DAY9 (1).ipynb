{
 "cells": [
  {
   "cell_type": "code",
   "execution_count": 1,
   "id": "485dac3c-112c-45bf-a2c6-4243fb16db1e",
   "metadata": {},
   "outputs": [],
   "source": [
    "x=[1,2,3,4,5]\n"
   ]
  },
  {
   "cell_type": "code",
   "execution_count": 2,
   "id": "dc9f9d4a-c80c-45f3-a6b9-8b1e4d4bf8a6",
   "metadata": {},
   "outputs": [
    {
     "data": {
      "text/plain": [
       "1"
      ]
     },
     "execution_count": 2,
     "metadata": {},
     "output_type": "execute_result"
    }
   ],
   "source": [
    "x[0]"
   ]
  },
  {
   "cell_type": "code",
   "execution_count": 5,
   "id": "e646906f-ff81-4bf9-a111-1b0453e8e0fb",
   "metadata": {},
   "outputs": [],
   "source": [
    "x=[\"burhan\",19,\"malapuram\",\"kfc\"]"
   ]
  },
  {
   "cell_type": "code",
   "execution_count": 10,
   "id": "faf7e3bb-f21c-4ebf-9675-715a82d866d3",
   "metadata": {},
   "outputs": [
    {
     "data": {
      "text/plain": [
       "19"
      ]
     },
     "execution_count": 10,
     "metadata": {},
     "output_type": "execute_result"
    }
   ],
   "source": [
    "x[1]"
   ]
  },
  {
   "cell_type": "code",
   "execution_count": 11,
   "id": "da792a0e-8151-4458-ba1f-e43082d43da3",
   "metadata": {},
   "outputs": [
    {
     "data": {
      "text/plain": [
       "'kfc'"
      ]
     },
     "execution_count": 11,
     "metadata": {},
     "output_type": "execute_result"
    }
   ],
   "source": [
    "x[-1]"
   ]
  },
  {
   "cell_type": "code",
   "execution_count": 12,
   "id": "b6690906-6871-46c4-b75c-e3f931c8d4c2",
   "metadata": {},
   "outputs": [
    {
     "data": {
      "text/plain": [
       "'malapuram'"
      ]
     },
     "execution_count": 12,
     "metadata": {},
     "output_type": "execute_result"
    }
   ],
   "source": [
    "x[-2]"
   ]
  },
  {
   "cell_type": "code",
   "execution_count": 7,
   "id": "66117e2f-fb64-4a5c-a430-0e5f44453b0e",
   "metadata": {},
   "outputs": [],
   "source": [
    "x[3]= \"mcdonalds\""
   ]
  },
  {
   "cell_type": "code",
   "execution_count": 8,
   "id": "92adacc5-ba89-4431-ae61-7a42eb615269",
   "metadata": {},
   "outputs": [
    {
     "data": {
      "text/plain": [
       "'mcdonalds'"
      ]
     },
     "execution_count": 8,
     "metadata": {},
     "output_type": "execute_result"
    }
   ],
   "source": [
    "x[3]"
   ]
  },
  {
   "cell_type": "code",
   "execution_count": 17,
   "id": "ff9e5143-b174-416a-b799-888b1a01b19e",
   "metadata": {},
   "outputs": [
    {
     "name": "stdout",
     "output_type": "stream",
     "text": [
      "value of x= 0\n",
      "value of x= 1\n",
      "value of x= 2\n",
      "value of x= 3\n",
      "value of x= 4\n",
      "value of x= 5\n",
      "value of x= 6\n",
      "value of x= 7\n",
      "value of x= 8\n",
      "value of x= 9\n"
     ]
    }
   ],
   "source": [
    "x=0\n",
    "while x<10:\n",
    "    print(\"value of x=\",x)\n",
    "    x=x+1"
   ]
  },
  {
   "cell_type": "code",
   "execution_count": 23,
   "id": "222c4644-9f58-43b1-8685-c19b2f375bb1",
   "metadata": {},
   "outputs": [
    {
     "name": "stdout",
     "output_type": "stream",
     "text": [
      "5050\n"
     ]
    }
   ],
   "source": [
    "x=0\n",
    "total=0\n",
    "while x<101:\n",
    "    total=total+x\n",
    "    x=x+1\n",
    "print(total)    \n"
   ]
  },
  {
   "cell_type": "code",
   "execution_count": 37,
   "id": "5550cdd0-54c4-4047-8d89-087af2b45be9",
   "metadata": {},
   "outputs": [
    {
     "name": "stdin",
     "output_type": "stream",
     "text": [
      "enter the number= 3\n"
     ]
    },
    {
     "name": "stdout",
     "output_type": "stream",
     "text": [
      "6\n"
     ]
    }
   ],
   "source": [
    "z=int(input(\"enter the number=\"))\n",
    "x=1\n",
    "factoral=1\n",
    "while x<=z:\n",
    "    factoral=factoral*x\n",
    "    x=x+1\n",
    "print(factoral)    \n",
    "\n",
    "\n",
    "       \n",
    "       "
   ]
  },
  {
   "cell_type": "code",
   "execution_count": 40,
   "id": "d0a97281-921b-4ca6-ada4-39bf8e745ff9",
   "metadata": {},
   "outputs": [
    {
     "name": "stdin",
     "output_type": "stream",
     "text": [
      "enter your number= 4\n"
     ]
    },
    {
     "name": "stdout",
     "output_type": "stream",
     "text": [
      "2\n"
     ]
    }
   ],
   "source": [
    "z=int(input(\"enter your number=\"))\n",
    "x=0\n",
    "total=0\n",
    "while x<z:\n",
    "    total=total+x\n",
    "    x=x+2\n",
    "print(total) "
   ]
  },
  {
   "cell_type": "code",
   "execution_count": 41,
   "id": "7963c871-e450-4929-9458-374c035e74d5",
   "metadata": {},
   "outputs": [
    {
     "name": "stdout",
     "output_type": "stream",
     "text": [
      "1050\n"
     ]
    }
   ],
   "source": [
    "x=0\n",
    "total=0\n",
    "while x<101:\n",
    "    total=total+x\n",
    "    x=x+5\n",
    "print(total) "
   ]
  },
  {
   "cell_type": "code",
   "execution_count": 42,
   "id": "6c556157-9389-46b7-a514-a623b824211a",
   "metadata": {},
   "outputs": [
    {
     "data": {
      "text/plain": [
       "0"
      ]
     },
     "execution_count": 42,
     "metadata": {},
     "output_type": "execute_result"
    }
   ],
   "source": [
    "10%5"
   ]
  },
  {
   "cell_type": "code",
   "execution_count": 48,
   "id": "8615a0db-bd4a-4763-b639-8d52c0891418",
   "metadata": {},
   "outputs": [
    {
     "data": {
      "text/plain": [
       "0"
      ]
     },
     "execution_count": 48,
     "metadata": {},
     "output_type": "execute_result"
    }
   ],
   "source": [
    "100%5"
   ]
  },
  {
   "cell_type": "code",
   "execution_count": 44,
   "id": "6b8e497e-20c2-4eb4-a0be-0c2236cc06d5",
   "metadata": {},
   "outputs": [
    {
     "data": {
      "text/plain": [
       "2"
      ]
     },
     "execution_count": 44,
     "metadata": {},
     "output_type": "execute_result"
    }
   ],
   "source": [
    "12%5"
   ]
  },
  {
   "cell_type": "code",
   "execution_count": 45,
   "id": "76670144-35cd-46ae-9152-a9e4681f17f2",
   "metadata": {},
   "outputs": [
    {
     "data": {
      "text/plain": [
       "3"
      ]
     },
     "execution_count": 45,
     "metadata": {},
     "output_type": "execute_result"
    }
   ],
   "source": [
    "53%5"
   ]
  },
  {
   "cell_type": "code",
   "execution_count": 1,
   "id": "f33f2d2b-e7d6-4cac-aef4-07593e75a6ac",
   "metadata": {},
   "outputs": [
    {
     "name": "stdout",
     "output_type": "stream",
     "text": [
      "1050\n"
     ]
    }
   ],
   "source": [
    "x=0\n",
    "total=0\n",
    "while x<101:\n",
    "    if x%5==0:\n",
    "        total=total+x\n",
    "    x=x+1\n",
    "print(total) "
   ]
  },
  {
   "cell_type": "code",
   "execution_count": 12,
   "id": "639fad13-5b97-4f91-96ff-d80e6e5af13c",
   "metadata": {},
   "outputs": [
    {
     "name": "stdout",
     "output_type": "stream",
     "text": [
      "4950\n"
     ]
    }
   ],
   "source": [
    "total=0\n",
    "for x in range(100):\n",
    "    total=total+x\n",
    "print(total)"
   ]
  },
  {
   "cell_type": "code",
   "execution_count": 39,
   "id": "7215a636-49b2-47d2-ad08-fdfd02169f68",
   "metadata": {},
   "outputs": [
    {
     "name": "stdin",
     "output_type": "stream",
     "text": [
      "enter number 5\n"
     ]
    },
    {
     "name": "stdout",
     "output_type": "stream",
     "text": [
      "120\n"
     ]
    }
   ],
   "source": [
    "x=int(input(\"enter number\"))\n",
    "y=1\n",
    "total=1\n",
    "for x in range(1,x+1):\n",
    "    total=total*x\n",
    "print(total)"
   ]
  },
  {
   "cell_type": "code",
   "execution_count": null,
   "id": "247175a7-305e-4f64-95c0-0f5febc772d4",
   "metadata": {},
   "outputs": [],
   "source": []
  }
 ],
 "metadata": {
  "kernelspec": {
   "display_name": "Python 3",
   "language": "python",
   "name": "python3"
  },
  "language_info": {
   "codemirror_mode": {
    "name": "ipython",
    "version": 3
   },
   "file_extension": ".py",
   "mimetype": "text/x-python",
   "name": "python",
   "nbconvert_exporter": "python",
   "pygments_lexer": "ipython3",
   "version": "3.8.8"
  }
 },
 "nbformat": 4,
 "nbformat_minor": 5
}
