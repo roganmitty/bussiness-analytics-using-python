{
 "cells": [
  {
   "cell_type": "code",
   "execution_count": 1,
   "id": "da163b9a-b8ac-4f2d-b6d9-09b3e4f92dd9",
   "metadata": {},
   "outputs": [
    {
     "data": {
      "text/plain": [
       "300"
      ]
     },
     "execution_count": 1,
     "metadata": {},
     "output_type": "execute_result"
    }
   ],
   "source": [
    "xx=100\n",
    "xy=200\n",
    "xx+xy"
   ]
  },
  {
   "cell_type": "code",
   "execution_count": 2,
   "id": "36cb462a-e29a-4502-8e07-5be450e34299",
   "metadata": {},
   "outputs": [
    {
     "data": {
      "text/plain": [
       "269"
      ]
     },
     "execution_count": 2,
     "metadata": {},
     "output_type": "execute_result"
    }
   ],
   "source": [
    "richard=200\n",
    "shravan=69\n",
    "richard+shravan"
   ]
  },
  {
   "cell_type": "code",
   "execution_count": 3,
   "id": "a40dc8ef-7f36-4b37-81b3-d704fdfbd660",
   "metadata": {},
   "outputs": [
    {
     "data": {
      "text/plain": [
       "69"
      ]
     },
     "execution_count": 3,
     "metadata": {},
     "output_type": "execute_result"
    }
   ],
   "source": [
    "aron=60\n",
    "shravan=9\n",
    "aron+shravan"
   ]
  },
  {
   "cell_type": "code",
   "execution_count": 8,
   "id": "d5f46dd6-c859-42ab-ac34-dad52ac54539",
   "metadata": {},
   "outputs": [
    {
     "ename": "TypeError",
     "evalue": "'int' object is not callable",
     "output_type": "error",
     "traceback": [
      "\u001b[1;31m---------------------------------------------------------------------------\u001b[0m",
      "\u001b[1;31mTypeError\u001b[0m                                 Traceback (most recent call last)",
      "\u001b[1;32m<ipython-input-8-0a7a4e00b480>\u001b[0m in \u001b[0;36m<module>\u001b[1;34m\u001b[0m\n\u001b[0;32m      1\u001b[0m \u001b[0mprint\u001b[0m\u001b[1;33m=\u001b[0m\u001b[1;36m100\u001b[0m\u001b[1;33m\u001b[0m\u001b[1;33m\u001b[0m\u001b[0m\n\u001b[1;32m----> 2\u001b[1;33m \u001b[0mprint\u001b[0m\u001b[1;33m(\u001b[0m\u001b[0mprint\u001b[0m\u001b[1;33m)\u001b[0m\u001b[1;33m\u001b[0m\u001b[1;33m\u001b[0m\u001b[0m\n\u001b[0m",
      "\u001b[1;31mTypeError\u001b[0m: 'int' object is not callable"
     ]
    }
   ],
   "source": [
    "print=100\n",
    "print(print)"
   ]
  },
  {
   "cell_type": "code",
   "execution_count": 10,
   "id": "46726ede-2e1f-4617-9e36-b2d0852b2e9a",
   "metadata": {},
   "outputs": [],
   "source": [
    "ABC=10"
   ]
  },
  {
   "cell_type": "code",
   "execution_count": 11,
   "id": "e0b04a67-9767-431c-bf8e-3f9eb606f6db",
   "metadata": {},
   "outputs": [],
   "source": [
    "Abc=10"
   ]
  },
  {
   "cell_type": "code",
   "execution_count": 12,
   "id": "06edf752-f2d3-4635-8428-c0c91921608e",
   "metadata": {},
   "outputs": [],
   "source": [
    "aBC=10"
   ]
  },
  {
   "cell_type": "code",
   "execution_count": 13,
   "id": "47b96f09-3f41-4b4a-ac1a-4045017efebc",
   "metadata": {},
   "outputs": [],
   "source": [
    "abc=10"
   ]
  },
  {
   "cell_type": "code",
   "execution_count": 16,
   "id": "76db4ed6-6d4b-40f7-b0b5-fed47116fb53",
   "metadata": {},
   "outputs": [
    {
     "ename": "SyntaxError",
     "evalue": "invalid syntax (<ipython-input-16-eb132473e491>, line 1)",
     "output_type": "error",
     "traceback": [
      "\u001b[1;36m  File \u001b[1;32m\"<ipython-input-16-eb132473e491>\"\u001b[1;36m, line \u001b[1;32m1\u001b[0m\n\u001b[1;33m    1abc=10\u001b[0m\n\u001b[1;37m     ^\u001b[0m\n\u001b[1;31mSyntaxError\u001b[0m\u001b[1;31m:\u001b[0m invalid syntax\n"
     ]
    }
   ],
   "source": [
    "1abc=10"
   ]
  },
  {
   "cell_type": "code",
   "execution_count": 17,
   "id": "11602ceb-4e2b-4f26-85df-9caf0e5ca9e5",
   "metadata": {},
   "outputs": [
    {
     "ename": "SyntaxError",
     "evalue": "invalid syntax (<ipython-input-17-00478ecfad8e>, line 1)",
     "output_type": "error",
     "traceback": [
      "\u001b[1;36m  File \u001b[1;32m\"<ipython-input-17-00478ecfad8e>\"\u001b[1;36m, line \u001b[1;32m1\u001b[0m\n\u001b[1;33m    a b=10\u001b[0m\n\u001b[1;37m      ^\u001b[0m\n\u001b[1;31mSyntaxError\u001b[0m\u001b[1;31m:\u001b[0m invalid syntax\n"
     ]
    }
   ],
   "source": [
    "a b=10"
   ]
  },
  {
   "cell_type": "code",
   "execution_count": 18,
   "id": "8a1e4305-86cf-4059-8c0c-3e923c02f547",
   "metadata": {},
   "outputs": [],
   "source": [
    "# a b=10\n"
   ]
  },
  {
   "cell_type": "code",
   "execution_count": 2,
   "id": "b4effcbc-ce7b-45ef-a81d-11efef61d1d2",
   "metadata": {},
   "outputs": [],
   "source": [
    "x,y,z=\"sharavana\",\"banana\",2"
   ]
  },
  {
   "cell_type": "code",
   "execution_count": 10,
   "id": "a2f3977c-e22a-474a-bbfb-5e91be3c1d60",
   "metadata": {},
   "outputs": [
    {
     "data": {
      "text/plain": [
       "2"
      ]
     },
     "execution_count": 10,
     "metadata": {},
     "output_type": "execute_result"
    }
   ],
   "source": [
    "z"
   ]
  },
  {
   "cell_type": "markdown",
   "id": "9be87a48-ff93-42b7-b48c-5f8d8a37008c",
   "metadata": {},
   "source": [
    "mt.pi"
   ]
  },
  {
   "cell_type": "code",
   "execution_count": 11,
   "id": "abcc7fa9-77b6-42a2-a5c9-d91c812dd783",
   "metadata": {},
   "outputs": [],
   "source": [
    "import math"
   ]
  },
  {
   "cell_type": "code",
   "execution_count": 12,
   "id": "ae010735-3b87-4dcd-a5f4-2829de318327",
   "metadata": {},
   "outputs": [
    {
     "data": {
      "text/plain": [
       "3.141592653589793"
      ]
     },
     "execution_count": 12,
     "metadata": {},
     "output_type": "execute_result"
    }
   ],
   "source": [
    "math.pi"
   ]
  },
  {
   "cell_type": "code",
   "execution_count": 13,
   "id": "79c55f45-2806-4581-9cbe-f2614cf2897f",
   "metadata": {},
   "outputs": [
    {
     "data": {
      "text/plain": [
       "1.0"
      ]
     },
     "execution_count": 13,
     "metadata": {},
     "output_type": "execute_result"
    }
   ],
   "source": [
    "math.cos(0)"
   ]
  },
  {
   "cell_type": "code",
   "execution_count": 15,
   "id": "ea0f06c7-26ae-4013-a52f-566d52015f5a",
   "metadata": {},
   "outputs": [
    {
     "data": {
      "text/plain": [
       "1.0"
      ]
     },
     "execution_count": 15,
     "metadata": {},
     "output_type": "execute_result"
    }
   ],
   "source": [
    "math.sin(math.pi/2)"
   ]
  },
  {
   "cell_type": "code",
   "execution_count": 16,
   "id": "0a41215f-05ee-41d4-b784-fd33751691be",
   "metadata": {},
   "outputs": [],
   "source": [
    "import math as s"
   ]
  },
  {
   "cell_type": "code",
   "execution_count": 18,
   "id": "5c915c48-9cf2-49a1-a541-d4c043594319",
   "metadata": {},
   "outputs": [
    {
     "data": {
      "text/plain": [
       "1.0"
      ]
     },
     "execution_count": 18,
     "metadata": {},
     "output_type": "execute_result"
    }
   ],
   "source": [
    "s.sin(s.pi/2)"
   ]
  },
  {
   "cell_type": "code",
   "execution_count": 31,
   "id": "97fe4da6-c51d-4179-8b84-8249b320a544",
   "metadata": {},
   "outputs": [
    {
     "name": "stdin",
     "output_type": "stream",
     "text": [
      "first number 90\n",
      "FUNCTION 4\n"
     ]
    },
    {
     "name": "stdout",
     "output_type": "stream",
     "text": [
      "4.499809670330265\n"
     ]
    }
   ],
   "source": [
    "x=int(input(\"first number\"))\n",
    "z=int(input(\"FUNCTION\"))\n",
    "if z == 1 :\n",
    "    a=s.sin(x)\n",
    "    print(a)\n",
    "if z == 2 :\n",
    "    a=s.cos(x)\n",
    "    print(a)\n",
    "if z == 3 :\n",
    "    a=s.tan(x)\n",
    "    print(a)\n",
    "if z == 4 :\n",
    "    a=s.log(x)\n",
    "    print(a)"
   ]
  },
  {
   "cell_type": "code",
   "execution_count": 35,
   "id": "7d5cc23c-ad72-46ee-8cd1-553f0c591a7f",
   "metadata": {},
   "outputs": [],
   "source": [
    "def sharavavav() :\n",
    "    x=int(input(\"enter your number\"))\n",
    "    print(\"sq of x =\", x*x)"
   ]
  },
  {
   "cell_type": "code",
   "execution_count": 37,
   "id": "92720668-0e29-45ce-a74f-7602cac8b680",
   "metadata": {},
   "outputs": [
    {
     "name": "stdin",
     "output_type": "stream",
     "text": [
      "enter your number 567\n"
     ]
    },
    {
     "name": "stdout",
     "output_type": "stream",
     "text": [
      "sq of x = 321489\n"
     ]
    }
   ],
   "source": [
    "sharavavav()"
   ]
  },
  {
   "cell_type": "code",
   "execution_count": null,
   "id": "fdd3e66f-b790-4719-a293-cc83e9dd724f",
   "metadata": {},
   "outputs": [],
   "source": []
  }
 ],
 "metadata": {
  "kernelspec": {
   "display_name": "Python 3",
   "language": "python",
   "name": "python3"
  },
  "language_info": {
   "codemirror_mode": {
    "name": "ipython",
    "version": 3
   },
   "file_extension": ".py",
   "mimetype": "text/x-python",
   "name": "python",
   "nbconvert_exporter": "python",
   "pygments_lexer": "ipython3",
   "version": "3.8.8"
  }
 },
 "nbformat": 4,
 "nbformat_minor": 5
}
