{
 "cells": [
  {
   "cell_type": "code",
   "execution_count": 4,
   "id": "71c2e873-f71b-462f-afd3-f64edc93e33c",
   "metadata": {},
   "outputs": [
    {
     "name": "stdin",
     "output_type": "stream",
     "text": [
      "enter a number 7\n",
      "function 1\n"
     ]
    },
    {
     "name": "stdout",
     "output_type": "stream",
     "text": [
      "odd\n"
     ]
    }
   ],
   "source": [
    "x=int(input(\"enter a number\"))\n",
    "y=int(input(\"function\"))\n",
    "if y==1:\n",
    "    print(\"odd\")\n",
    "if y==2:\n",
    "    print(\"even\")"
   ]
  },
  {
   "cell_type": "code",
   "execution_count": 5,
   "id": "26f5b5e7-2e0b-483f-bb55-ec26c563dccc",
   "metadata": {},
   "outputs": [],
   "source": [
    "def ABCD():\n",
    "    print(\"hello from a function\")\n"
   ]
  },
  {
   "cell_type": "code",
   "execution_count": 6,
   "id": "443c82e9-55cc-4048-82ec-ad02381bce2c",
   "metadata": {},
   "outputs": [
    {
     "name": "stdout",
     "output_type": "stream",
     "text": [
      "hello from a function\n"
     ]
    }
   ],
   "source": [
    "ABCD()"
   ]
  },
  {
   "cell_type": "code",
   "execution_count": 7,
   "id": "a1cb0486-5129-44dc-ad35-5a5e8b88a3e4",
   "metadata": {},
   "outputs": [],
   "source": [
    "def bbc():\n",
    "    print(\"thass crazy\")"
   ]
  },
  {
   "cell_type": "code",
   "execution_count": 8,
   "id": "9cef2757-5303-468a-9e31-1a58089e5449",
   "metadata": {},
   "outputs": [
    {
     "name": "stdout",
     "output_type": "stream",
     "text": [
      "thass crazy\n"
     ]
    }
   ],
   "source": [
    "bbc()"
   ]
  },
  {
   "cell_type": "code",
   "execution_count": 10,
   "id": "30c8c885-b351-43e9-bc68-ad9429461f0f",
   "metadata": {},
   "outputs": [
    {
     "name": "stdout",
     "output_type": "stream",
     "text": [
      "hello from a function\n"
     ]
    }
   ],
   "source": [
    "x=10\n",
    "y=20\n",
    "z=x+y\n",
    "ABCD()\n"
   ]
  },
  {
   "cell_type": "code",
   "execution_count": 16,
   "id": "6094adee-d980-4981-bfc9-1c09856a1a44",
   "metadata": {},
   "outputs": [],
   "source": [
    "def add():\n",
    "    x=int(input(\"enter first no\"))\n",
    "    y=int(input(\"enter 2nd\"))\n",
    "    print(x+y)"
   ]
  },
  {
   "cell_type": "code",
   "execution_count": 17,
   "id": "19bbae95-1efa-4755-8e08-331e25f42e72",
   "metadata": {},
   "outputs": [
    {
     "name": "stdin",
     "output_type": "stream",
     "text": [
      "enter first no 44\n",
      "enter 2nd 34\n"
     ]
    },
    {
     "name": "stdout",
     "output_type": "stream",
     "text": [
      "78\n"
     ]
    }
   ],
   "source": [
    "add()"
   ]
  },
  {
   "cell_type": "code",
   "execution_count": 18,
   "id": "e50c3660-ab4b-4e68-82a9-98ca6ad61133",
   "metadata": {},
   "outputs": [],
   "source": [
    "def sub():\n",
    "    x=int(input(\"enter first no\"))\n",
    "    y=int(input(\"enter 2nd\"))\n",
    "    print(x-y)\n",
    "    "
   ]
  },
  {
   "cell_type": "code",
   "execution_count": 19,
   "id": "358f1783-ac21-4203-a9cf-1cf8be7ccc23",
   "metadata": {},
   "outputs": [
    {
     "name": "stdin",
     "output_type": "stream",
     "text": [
      "enter first no 45\n",
      "enter 2nd 10\n"
     ]
    },
    {
     "name": "stdout",
     "output_type": "stream",
     "text": [
      "35\n"
     ]
    }
   ],
   "source": [
    "sub()"
   ]
  },
  {
   "cell_type": "code",
   "execution_count": 23,
   "id": "3a24d694-8ab9-4a4e-b42c-fafeacb936ac",
   "metadata": {},
   "outputs": [],
   "source": [
    "def multiply():\n",
    "    x=int(input(\"enter first no\"))\n",
    "    y=int(input(\"enter 2nd\"))\n",
    "    print(x*y)\n",
    "    "
   ]
  },
  {
   "cell_type": "code",
   "execution_count": 24,
   "id": "c60809c6-3ee4-456a-99b3-80282442173c",
   "metadata": {},
   "outputs": [
    {
     "name": "stdin",
     "output_type": "stream",
     "text": [
      "enter first no 44\n",
      "enter 2nd 4\n"
     ]
    },
    {
     "name": "stdout",
     "output_type": "stream",
     "text": [
      "176\n"
     ]
    }
   ],
   "source": [
    "multiply()"
   ]
  },
  {
   "cell_type": "code",
   "execution_count": 25,
   "id": "a0db53b7-0408-4613-b449-f862da7a1e3e",
   "metadata": {},
   "outputs": [],
   "source": [
    "def divide():\n",
    "    x=int(input(\"enter first no\"))\n",
    "    y=int(input(\"enter 2nd\"))\n",
    "    print(x/y)\n",
    "    "
   ]
  },
  {
   "cell_type": "code",
   "execution_count": 26,
   "id": "16edd205-d225-4b38-9c18-3188b1b0e91d",
   "metadata": {},
   "outputs": [
    {
     "name": "stdin",
     "output_type": "stream",
     "text": [
      "enter first no 10\n",
      "enter 2nd 5\n"
     ]
    },
    {
     "name": "stdout",
     "output_type": "stream",
     "text": [
      "2.0\n"
     ]
    }
   ],
   "source": [
    "divide()"
   ]
  },
  {
   "cell_type": "code",
   "execution_count": 28,
   "id": "ff9698ce-8f13-4968-b07d-3441fe1d89e6",
   "metadata": {},
   "outputs": [],
   "source": [
    "def multiply():\n",
    "    x=int(input(\"enter first no\"))\n",
    "    y=int(input(\"enter 2nd\"))\n",
    "    z=int(input(\"enetr 3rd number\"))\n",
    "    print(x*y*z)\n",
    "    "
   ]
  },
  {
   "cell_type": "code",
   "execution_count": 29,
   "id": "7af499df-6500-4265-8f92-3a639a8d0dfc",
   "metadata": {
    "collapsed": true,
    "jupyter": {
     "outputs_hidden": true
    },
    "tags": []
   },
   "outputs": [
    {
     "name": "stdin",
     "output_type": "stream",
     "text": [
      "enter first no 5\n",
      "enter 2nd 4\n",
      "enetr 3rd number 3\n"
     ]
    },
    {
     "name": "stdout",
     "output_type": "stream",
     "text": [
      "60\n"
     ]
    }
   ],
   "source": [
    "multiply()"
   ]
  },
  {
   "cell_type": "code",
   "execution_count": 42,
   "id": "fcba2b0f-2703-4096-aeea-555754618f43",
   "metadata": {},
   "outputs": [],
   "source": [
    "def cal():\n",
    "    z=int(input(\"function\"))\n",
    "    if z == 1 :\n",
    "        add()\n",
    "    if z == 2 :\n",
    "         sub()\n",
    "    if z == 3: \n",
    "        multiply()\n",
    "    if z == 4 :\n",
    "        divide()\n",
    "       "
   ]
  },
  {
   "cell_type": "code",
   "execution_count": 43,
   "id": "be20d236-8b45-48a4-ba57-f3fcfd15f348",
   "metadata": {},
   "outputs": [
    {
     "name": "stdin",
     "output_type": "stream",
     "text": [
      "function 4\n",
      "enter first no 23\n",
      "enter 2nd 1\n"
     ]
    },
    {
     "name": "stdout",
     "output_type": "stream",
     "text": [
      "23.0\n"
     ]
    }
   ],
   "source": [
    "cal()"
   ]
  },
  {
   "cell_type": "code",
   "execution_count": 2,
   "id": "35a478c9-05ed-41af-9597-88d82a542b9c",
   "metadata": {},
   "outputs": [],
   "source": [
    "def add(x,y):\n",
    "    z=x+y\n",
    "    print(z)"
   ]
  },
  {
   "cell_type": "code",
   "execution_count": 3,
   "id": "ba29af11-204f-4b32-9b34-8b5eeb4bdd00",
   "metadata": {},
   "outputs": [
    {
     "name": "stdin",
     "output_type": "stream",
     "text": [
      "eneter a value 44\n",
      "enter a value 44\n"
     ]
    },
    {
     "name": "stdout",
     "output_type": "stream",
     "text": [
      "88\n"
     ]
    }
   ],
   "source": [
    "x=int(input(\"eneter a value\"))\n",
    "y=int(input(\"enter a value\"))\n",
    "add(x,y)"
   ]
  },
  {
   "cell_type": "code",
   "execution_count": 4,
   "id": "ec3c96a6-59e6-4c0e-8197-0b65802cfefb",
   "metadata": {},
   "outputs": [],
   "source": [
    "def sub(x,y):\n",
    "    z=x-y\n",
    "    print(z)\n"
   ]
  },
  {
   "cell_type": "code",
   "execution_count": 5,
   "id": "4f46a6c4-1434-4c4d-b8e8-1992589c9744",
   "metadata": {},
   "outputs": [
    {
     "name": "stdin",
     "output_type": "stream",
     "text": [
      "eneter a value 44\n",
      "enter a value 44\n"
     ]
    },
    {
     "name": "stdout",
     "output_type": "stream",
     "text": [
      "0\n"
     ]
    }
   ],
   "source": [
    "x=int(input(\"eneter a value\"))\n",
    "y=int(input(\"enter a value\"))\n",
    "sub(x,y)"
   ]
  },
  {
   "cell_type": "code",
   "execution_count": 6,
   "id": "4272f567-f076-4018-afb4-1b271cae184a",
   "metadata": {},
   "outputs": [],
   "source": [
    "def multiply(x,y):\n",
    "    z=x*y\n",
    "    print(z)"
   ]
  },
  {
   "cell_type": "code",
   "execution_count": 7,
   "id": "cd183d71-602b-4c72-96f8-175a0a554f13",
   "metadata": {},
   "outputs": [
    {
     "name": "stdin",
     "output_type": "stream",
     "text": [
      "eneter a value 44\n",
      "enter a value 44\n"
     ]
    },
    {
     "name": "stdout",
     "output_type": "stream",
     "text": [
      "1936\n"
     ]
    }
   ],
   "source": [
    "x=int(input(\"eneter a value\"))\n",
    "y=int(input(\"enter a value\"))\n",
    "multiply(x,y)"
   ]
  },
  {
   "cell_type": "code",
   "execution_count": 8,
   "id": "46250fa4-a696-4d2c-84df-c15ff5a4f182",
   "metadata": {},
   "outputs": [],
   "source": [
    "def divide(x,y):\n",
    "    z=x/y\n",
    "    print(z)"
   ]
  },
  {
   "cell_type": "code",
   "execution_count": 9,
   "id": "b1c64b6d-4587-4c58-88ad-72d8e6191e0b",
   "metadata": {},
   "outputs": [
    {
     "name": "stdin",
     "output_type": "stream",
     "text": [
      "eneter a value 44\n",
      "enter a value 44\n"
     ]
    },
    {
     "name": "stdout",
     "output_type": "stream",
     "text": [
      "1.0\n"
     ]
    }
   ],
   "source": [
    "x=int(input(\"eneter a value\"))\n",
    "y=int(input(\"enter a value\"))\n",
    "divide(x,y)"
   ]
  },
  {
   "cell_type": "code",
   "execution_count": 10,
   "id": "e56864db-922d-4476-a59c-00f7e1d78c16",
   "metadata": {},
   "outputs": [
    {
     "name": "stdin",
     "output_type": "stream",
     "text": [
      "eneter a value 4\n",
      "enter a value 4\n",
      "function 3\n"
     ]
    },
    {
     "name": "stdout",
     "output_type": "stream",
     "text": [
      "16\n"
     ]
    }
   ],
   "source": [
    "x=int(input(\"eneter a value\"))\n",
    "y=int(input(\"enter a value\"))\n",
    "z=int(input(\"function\"))\n",
    "if z==1:\n",
    "     add(x,y)\n",
    "if z==2: \n",
    "    sub(x,y)\n",
    "if z==3:\n",
    "    multiply(x,y)\n",
    "if z==4:\n",
    "    divide(x,y)"
   ]
  },
  {
   "cell_type": "code",
   "execution_count": 21,
   "id": "7e00b888-d1f6-4a45-8e13-4334fc6ff5da",
   "metadata": {},
   "outputs": [
    {
     "ename": "IndentationError",
     "evalue": "unindent does not match any outer indentation level (<tokenize>, line 23)",
     "output_type": "error",
     "traceback": [
      "\u001b[1;36m  File \u001b[1;32m\"<tokenize>\"\u001b[1;36m, line \u001b[1;32m23\u001b[0m\n\u001b[1;33m    else:\u001b[0m\n\u001b[1;37m    ^\u001b[0m\n\u001b[1;31mIndentationError\u001b[0m\u001b[1;31m:\u001b[0m unindent does not match any outer indentation level\n"
     ]
    }
   ],
   "source": [
    "x=int(input(\"eneter a value\"))\n",
    "y=int(input(\"enter a value\"))\n",
    "z=int(input(\"function\"))\n",
    "if z==1:\n",
    "    add(x,y)\n",
    "        a=int(input(\"enter last number\"))\n",
    "        if a==0:\n",
    "            print(\"done\")\n",
    "        else:\n",
    "            add(x,y,a)\n",
    "if z==2: \n",
    "    sub(x,y)\n",
    "        a=int(input(\"enter last number\")) \n",
    "        if a==0:\n",
    "            print(\"done\")\n",
    "        else:\n",
    "            sub(x,y,a)\n",
    "if z==3:\n",
    "    multiply(x,y)\n",
    "        a=int(input(\"enter last number\"))\n",
    "             if a==0:\n",
    "                print(\"done\")\n",
    "            else:\n",
    "                multiply(x,y,a)\n",
    "if z==4:\n",
    "    divide(x,y)\n",
    "        a=int(input(\"enter last number\"))\n",
    "             if a==0:\n",
    "                print(\"done\")\n",
    "            else:\n",
    "                divide(x,y,a)\n",
    "        "
   ]
  },
  {
   "cell_type": "code",
   "execution_count": null,
   "id": "75b8e520-98bb-493f-a745-266b66113fd1",
   "metadata": {},
   "outputs": [],
   "source": []
  }
 ],
 "metadata": {
  "kernelspec": {
   "display_name": "Python 3",
   "language": "python",
   "name": "python3"
  },
  "language_info": {
   "codemirror_mode": {
    "name": "ipython",
    "version": 3
   },
   "file_extension": ".py",
   "mimetype": "text/x-python",
   "name": "python",
   "nbconvert_exporter": "python",
   "pygments_lexer": "ipython3",
   "version": "3.8.8"
  }
 },
 "nbformat": 4,
 "nbformat_minor": 5
}
