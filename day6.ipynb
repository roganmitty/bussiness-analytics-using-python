{
 "cells": [
  {
   "cell_type": "code",
   "execution_count": 27,
   "id": "72ca634e-65fc-4f48-9832-789d56dcdcd6",
   "metadata": {},
   "outputs": [],
   "source": [
    "def add():\n",
    "    x=int(input(\"enter first no\"))\n",
    "    y=int(input(\"enter 2nd\"))\n",
    "    print(x+y)\n",
    "    "
   ]
  },
  {
   "cell_type": "code",
   "execution_count": 28,
   "id": "2c78e53d-a82f-43b4-8889-bdcb01b58934",
   "metadata": {},
   "outputs": [],
   "source": [
    "def sub():\n",
    "    x=int(input(\"enter first no\"))\n",
    "    y=int(input(\"enter 2nd\"))\n",
    "    print(x-y)\n",
    "    "
   ]
  },
  {
   "cell_type": "code",
   "execution_count": 29,
   "id": "45f0fe5b-dd94-4752-8ff6-81691340a9b9",
   "metadata": {},
   "outputs": [],
   "source": [
    "def multiply():\n",
    "    x=int(input(\"enter first no\"))\n",
    "    y=int(input(\"enter 2nd\"))\n",
    "    print(x*y)"
   ]
  },
  {
   "cell_type": "code",
   "execution_count": 30,
   "id": "096e1d98-9377-47a4-a822-1705dfcd7534",
   "metadata": {},
   "outputs": [],
   "source": [
    "def add(x,y):\n",
    "    z=x+y\n",
    "    print(z)\n",
    "    return z\n",
    "def sub(x,y):\n",
    "    z=x-y\n",
    "    print(z)\n",
    "    return z\n",
    "def multiply(x,y):\n",
    "    z=x*y\n",
    "    print(z)\n",
    "    return z\n",
    "def divide(x,y):\n",
    "    z=x/y\n",
    "    print(z)\n",
    "    return z\n",
    "\n",
    "    \n",
    "    "
   ]
  },
  {
   "cell_type": "code",
   "execution_count": 3,
   "id": "e47ad109-9fc3-4bfa-a062-b9cb491535f2",
   "metadata": {},
   "outputs": [
    {
     "name": "stdin",
     "output_type": "stream",
     "text": [
      "enter first number 5\n",
      "enter the operation sin\n",
      "enter second number 5\n"
     ]
    },
    {
     "ename": "TypeError",
     "evalue": "sin() takes exactly one argument (2 given)",
     "output_type": "error",
     "traceback": [
      "\u001b[1;31m---------------------------------------------------------------------------\u001b[0m",
      "\u001b[1;31mTypeError\u001b[0m                                 Traceback (most recent call last)",
      "\u001b[1;32m<ipython-input-3-dcb7f36f4b9b>\u001b[0m in \u001b[0;36m<module>\u001b[1;34m\u001b[0m\n\u001b[0;32m     32\u001b[0m     \u001b[0mA\u001b[0m\u001b[1;33m=\u001b[0m\u001b[0mdivide\u001b[0m\u001b[1;33m(\u001b[0m\u001b[0mx\u001b[0m\u001b[1;33m,\u001b[0m\u001b[0my\u001b[0m\u001b[1;33m)\u001b[0m\u001b[1;33m\u001b[0m\u001b[1;33m\u001b[0m\u001b[0m\n\u001b[0;32m     33\u001b[0m \u001b[1;32mif\u001b[0m \u001b[0mz\u001b[0m \u001b[1;33m==\u001b[0m \u001b[1;34m\"sin\"\u001b[0m\u001b[1;33m:\u001b[0m\u001b[1;33m\u001b[0m\u001b[1;33m\u001b[0m\u001b[0m\n\u001b[1;32m---> 34\u001b[1;33m     \u001b[0mA\u001b[0m\u001b[1;33m=\u001b[0m\u001b[0ms\u001b[0m\u001b[1;33m.\u001b[0m\u001b[0msin\u001b[0m\u001b[1;33m(\u001b[0m\u001b[0mx\u001b[0m\u001b[1;33m,\u001b[0m\u001b[0my\u001b[0m\u001b[1;33m)\u001b[0m\u001b[1;33m\u001b[0m\u001b[1;33m\u001b[0m\u001b[0m\n\u001b[0m\u001b[0;32m     35\u001b[0m \u001b[1;32mif\u001b[0m \u001b[0mz\u001b[0m \u001b[1;33m==\u001b[0m \u001b[1;34m\"cos\"\u001b[0m\u001b[1;33m:\u001b[0m\u001b[1;33m\u001b[0m\u001b[1;33m\u001b[0m\u001b[0m\n\u001b[0;32m     36\u001b[0m     \u001b[0mA\u001b[0m\u001b[1;33m=\u001b[0m\u001b[0ms\u001b[0m\u001b[1;33m.\u001b[0m\u001b[0mcos\u001b[0m\u001b[1;33m(\u001b[0m\u001b[0mx\u001b[0m\u001b[1;33m,\u001b[0m\u001b[0my\u001b[0m\u001b[1;33m)\u001b[0m\u001b[1;33m\u001b[0m\u001b[1;33m\u001b[0m\u001b[0m\n",
      "\u001b[1;31mTypeError\u001b[0m: sin() takes exactly one argument (2 given)"
     ]
    }
   ],
   "source": [
    "x=int(input(\"enter first number\"))\n",
    "z=input(\"enter the operation\")\n",
    "y=int(input(\"enter second number\"))\n",
    "\n",
    "import math as s\n",
    "def add(x,y):\n",
    "    z=x+y\n",
    "    return z\n",
    "def sub(x,y):\n",
    "    z=x-y\n",
    "    return z\n",
    "def multiply(x,y):\n",
    "    z=x*y\n",
    "    return z\n",
    "def divide(x,y):\n",
    "    z=x/y\n",
    "    return z\n",
    "\n",
    "if z == \"+\" :\n",
    "    A=add(x,y)\n",
    "    \n",
    "    \n",
    "if z == \"-\" :\n",
    "    A=sub(x,y)\n",
    "   \n",
    "    \n",
    "if z == \"*\" :\n",
    "    A=multiply(x,y)\n",
    "    \n",
    "    \n",
    "if z == \"/\" :\n",
    "    A=divide(x,y)\n",
    "if z == \"sin\":\n",
    "    A=s.sin(x,y)\n",
    "if z == \"cos\":\n",
    "    A=s.cos(x,y)\n",
    "if z == \"tan\":\n",
    "    A=s.tan(x,y)\n",
    "\n",
    "\n",
    "print(\"result is A\", A) \n",
    "\n",
    "B=input(\"if you wish to continue type y or else n \")\n",
    "if B == \"y\":\n",
    "    d=int(input(\"enter next number\"))\n",
    "    z=input(\"operation\")\n",
    "    if z == \"+\" :\n",
    "        ANS=add(A,d)\n",
    "    \n",
    "    \n",
    "    if z == \"-\" :\n",
    "        ANS=sub(A,d)\n",
    "   \n",
    "    \n",
    "    if z == \"*\" :\n",
    "        ANS=multiply(A,d)\n",
    "    \n",
    "    \n",
    "    if z == \"/\" :\n",
    "        ANS=divide(A,d)\n",
    "    if z == \"sin\":\n",
    "        ANS=s.sin(A,d)\n",
    "    if z == \"cos\":\n",
    "        ANS=s.cos(A,d)\n",
    "    if z == \"tan\":\n",
    "        ANS=s.tan(A.d)\n",
    "    print(\"result is ANS\", ANS) \n",
    "    \n",
    "if B == \"n\":\n",
    "    print(\"calculation complete\")\n",
    "\n",
    "    \n",
    "    \n",
    "  "
   ]
  },
  {
   "cell_type": "code",
   "execution_count": null,
   "id": "217fabd6-a65c-4e99-8ca5-42d794289c57",
   "metadata": {},
   "outputs": [],
   "source": []
  }
 ],
 "metadata": {
  "kernelspec": {
   "display_name": "Python 3",
   "language": "python",
   "name": "python3"
  },
  "language_info": {
   "codemirror_mode": {
    "name": "ipython",
    "version": 3
   },
   "file_extension": ".py",
   "mimetype": "text/x-python",
   "name": "python",
   "nbconvert_exporter": "python",
   "pygments_lexer": "ipython3",
   "version": "3.8.8"
  }
 },
 "nbformat": 4,
 "nbformat_minor": 5
}
