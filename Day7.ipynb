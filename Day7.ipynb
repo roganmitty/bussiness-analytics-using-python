{
 "cells": [
  {
   "cell_type": "code",
   "execution_count": 1,
   "id": "a0405be7-649e-4728-9ee5-29a12099358d",
   "metadata": {},
   "outputs": [
    {
     "ename": "SyntaxError",
     "evalue": "invalid syntax (<ipython-input-1-07d9ae351441>, line 6)",
     "output_type": "error",
     "traceback": [
      "\u001b[1;36m  File \u001b[1;32m\"<ipython-input-1-07d9ae351441>\"\u001b[1;36m, line \u001b[1;32m6\u001b[0m\n\u001b[1;33m    print(\"x is equal to y\")|\u001b[0m\n\u001b[1;37m                             ^\u001b[0m\n\u001b[1;31mSyntaxError\u001b[0m\u001b[1;31m:\u001b[0m invalid syntax\n"
     ]
    }
   ],
   "source": [
    "if x > y :\n",
    "    print(\"x greater than y\")\n",
    "if x < y :\n",
    "    print(\"x is less than y\")\n",
    "if x == y :\n",
    "    print(\"x is equal to y\")|"
   ]
  },
  {
   "cell_type": "code",
   "execution_count": 3,
   "id": "e060a7cd-31ff-41e6-99c2-59584f42eb6c",
   "metadata": {},
   "outputs": [
    {
     "name": "stdin",
     "output_type": "stream",
     "text": [
      "enter value of x= 5\n",
      "enter value of y= 4\n"
     ]
    },
    {
     "name": "stdout",
     "output_type": "stream",
     "text": [
      "x greater than y\n"
     ]
    }
   ],
   "source": [
    "x=int(input(\"enter value of x=\"))\n",
    "y=int(input(\"enter value of y=\"))\n",
    "if x > y :\n",
    "    print(\"x greater than y\")\n",
    "if x < y :\n",
    "    print(\"x is less than y\")\n",
    "if x == y :\n",
    "    print(\"x is equal to y\")"
   ]
  },
  {
   "cell_type": "code",
   "execution_count": 4,
   "id": "300cc2a6-99a6-43a1-abbc-1bb6f4864654",
   "metadata": {},
   "outputs": [
    {
     "name": "stdin",
     "output_type": "stream",
     "text": [
      "enter your username adaam\n"
     ]
    },
    {
     "name": "stdout",
     "output_type": "stream",
     "text": [
      "incorrect\n"
     ]
    }
   ],
   "source": [
    "y=input(\"enter your username\")\n",
    "if y == \"adam\":\n",
    "    print(\"your username is correct\")\n",
    "else :\n",
    "    print(\"incorrect\")"
   ]
  },
  {
   "cell_type": "code",
   "execution_count": 8,
   "id": "26e1e588-666d-4d2a-8efd-4256103752fb",
   "metadata": {},
   "outputs": [
    {
     "name": "stdin",
     "output_type": "stream",
     "text": [
      "enter your income in lakhs 6\n"
     ]
    },
    {
     "name": "stdout",
     "output_type": "stream",
     "text": [
      "special tax rates\n"
     ]
    }
   ],
   "source": [
    "income=int(input(\"enter your income in lakhs\"))\n",
    "if ((income>=2) and (income<=5)):\n",
    "    print(\"base tax\")\n",
    "else :\n",
    "    print(\"special tax rates\")"
   ]
  },
  {
   "cell_type": "code",
   "execution_count": 10,
   "id": "aaca5aef-a2b9-4bc4-b62d-859ee5912211",
   "metadata": {},
   "outputs": [
    {
     "name": "stdin",
     "output_type": "stream",
     "text": [
      "enter your income in lakhs 89\n"
     ]
    },
    {
     "name": "stdout",
     "output_type": "stream",
     "text": [
      "tax rate 5%\n"
     ]
    }
   ],
   "source": [
    "income=int(input(\"enter your income in lakhs\"))\n",
    "if ((income<=2) or (income>=50)):\n",
    "    print(\"tax rate 5%\")\n",
    "else :\n",
    "    print(\"tax rate 10%\")"
   ]
  },
  {
   "cell_type": "code",
   "execution_count": 1,
   "id": "166f1323-a950-468a-a02f-29603f2d83ad",
   "metadata": {},
   "outputs": [
    {
     "name": "stdin",
     "output_type": "stream",
     "text": [
      "base price 5000\n",
      "enter the slab value 183\n",
      "what is road development cess 25\n",
      "what is road tax 45\n",
      "economic sess 35\n",
      "what is the gst 10\n",
      "VAT 5\n"
     ]
    }
   ],
   "source": [
    "x=int(input(\"base price\"))\n",
    "g=int(input(\"enter the slab value\"))/100\n",
    "y=int(input(\"what is road development cess\"))/100\n",
    "z=int(input(\"what is road tax\"))/100\n",
    "c=int(input(\"economic sess\"))/100\n",
    "s=int(input(\"what is the gst\"))/100\n",
    "d=int(input(\"VAT\"))/100\n",
    "p=x+(s+y+z+c+d)*d"
   ]
  },
  {
   "cell_type": "code",
   "execution_count": 2,
   "id": "f9d4545a-0fb7-4b66-a1f1-f4d22869b677",
   "metadata": {},
   "outputs": [
    {
     "name": "stdout",
     "output_type": "stream",
     "text": [
      "5000.06\n"
     ]
    }
   ],
   "source": [
    "print(p)"
   ]
  },
  {
   "cell_type": "code",
   "execution_count": 5,
   "id": "fa976a2e-f6f2-4564-a5a5-34014780b1ae",
   "metadata": {},
   "outputs": [
    {
     "name": "stdin",
     "output_type": "stream",
     "text": [
      "base price 5000\n",
      "what is road development cess 25\n",
      "what is road tax 28\n",
      "economic sess 56\n",
      "what is the gst 10\n",
      "VAT 5\n",
      "enter slab number 1\n"
     ]
    }
   ],
   "source": [
    "x=int(input(\"base price\"))\n",
    "\n",
    "y=int(input(\"what is road development cess\"))/100\n",
    "z=int(input(\"what is road tax\"))/100\n",
    "c=int(input(\"economic sess\"))/100\n",
    "s=int(input(\"what is the gst\"))/100\n",
    "d=int(input(\"VAT\"))/100\n",
    "q=int(input(\"enter slab number\"))\n",
    "\n",
    "if q == 1 :\n",
    "    a=0/100\n",
    "if q == 2 :\n",
    "    a=5/100\n",
    "if q == 3 :\n",
    "    a=12/100\n",
    "if q == 4 :\n",
    "    a=18/100\n",
    "if q == 5 :\n",
    "    a=28/100\n",
    "p=x+(a+y+z+c+d)*d"
   ]
  },
  {
   "cell_type": "code",
   "execution_count": 7,
   "id": "d7701ca5-d170-46ea-9d51-f6f58ab711c7",
   "metadata": {},
   "outputs": [
    {
     "name": "stdout",
     "output_type": "stream",
     "text": [
      "5000.057\n"
     ]
    }
   ],
   "source": [
    "print(p)"
   ]
  },
  {
   "cell_type": "code",
   "execution_count": null,
   "id": "1395f571-c612-4ed3-8f28-0888e8b0e169",
   "metadata": {},
   "outputs": [],
   "source": []
  },
  {
   "cell_type": "code",
   "execution_count": null,
   "id": "28411305-8db1-466b-8ca4-719cf96b2eb5",
   "metadata": {},
   "outputs": [],
   "source": []
  },
  {
   "cell_type": "code",
   "execution_count": null,
   "id": "d0d30b0b-a31f-48c4-9e81-f2094d59b2ad",
   "metadata": {},
   "outputs": [],
   "source": []
  }
 ],
 "metadata": {
  "kernelspec": {
   "display_name": "Python 3",
   "language": "python",
   "name": "python3"
  },
  "language_info": {
   "codemirror_mode": {
    "name": "ipython",
    "version": 3
   },
   "file_extension": ".py",
   "mimetype": "text/x-python",
   "name": "python",
   "nbconvert_exporter": "python",
   "pygments_lexer": "ipython3",
   "version": "3.8.8"
  }
 },
 "nbformat": 4,
 "nbformat_minor": 5
}
