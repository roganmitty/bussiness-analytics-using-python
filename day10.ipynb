{
 "cells": [
  {
   "cell_type": "code",
   "execution_count": 1,
   "id": "e741b027-8938-4d03-b0b5-761a88fe6607",
   "metadata": {},
   "outputs": [],
   "source": [
    "x=[1,2,3,4,5,6]"
   ]
  },
  {
   "cell_type": "code",
   "execution_count": 2,
   "id": "a211f662-dd3b-4452-be06-a27c21c455f9",
   "metadata": {},
   "outputs": [
    {
     "name": "stdout",
     "output_type": "stream",
     "text": [
      "1\n",
      "2\n",
      "3\n",
      "4\n",
      "5\n",
      "6\n"
     ]
    }
   ],
   "source": [
    "for f in x:\n",
    "    print(f)\n"
   ]
  },
  {
   "cell_type": "code",
   "execution_count": 6,
   "id": "3df9e55a-106c-4b7f-bd94-7638bc4a2f83",
   "metadata": {},
   "outputs": [
    {
     "name": "stdout",
     "output_type": "stream",
     "text": [
      "shane\n",
      "burhan\n",
      "joe\n",
      "chandini\n",
      "ikka\n"
     ]
    }
   ],
   "source": [
    "x=[\"shane\",\"burhan\",\"joe\",\"chandini\",\"ikka\"]\n",
    "for f in x:\n",
    "    print(f)"
   ]
  },
  {
   "cell_type": "code",
   "execution_count": 8,
   "id": "11c80cfb-a2f0-482d-b450-0107d65cf23e",
   "metadata": {},
   "outputs": [
    {
     "name": "stdout",
     "output_type": "stream",
     "text": [
      "shane,burhan,joe,chandini,ikka\n"
     ]
    }
   ],
   "source": [
    "x=[\"shane,burhan,joe,chandini,ikka\"]\n",
    "for f in x:\n",
    "    print(f)"
   ]
  },
  {
   "cell_type": "code",
   "execution_count": 23,
   "id": "8eab2114-af53-4d69-8725-df86cfffef47",
   "metadata": {},
   "outputs": [
    {
     "name": "stdout",
     "output_type": "stream",
     "text": [
      "55\n"
     ]
    }
   ],
   "source": [
    "x=[1,2,3,4,5,6,7,8,9,10]\n",
    "print(sum(x))"
   ]
  },
  {
   "cell_type": "code",
   "execution_count": 2,
   "id": "5e7e3646-ec36-44b5-9044-ce36dde37a7c",
   "metadata": {},
   "outputs": [
    {
     "name": "stdout",
     "output_type": "stream",
     "text": [
      "55\n"
     ]
    }
   ],
   "source": [
    "total=0\n",
    "x=[1,2,3,4,5,6,7,8,9,10]\n",
    "for f in x:\n",
    "    total=total+f\n",
    "print(total)"
   ]
  },
  {
   "cell_type": "code",
   "execution_count": 1,
   "id": "8ffb7a9f-29e0-44fa-957f-871a2b832686",
   "metadata": {},
   "outputs": [
    {
     "name": "stdout",
     "output_type": "stream",
     "text": [
      "3628800\n"
     ]
    }
   ],
   "source": [
    "product=1\n",
    "x=[1,2,3,4,5,6,7,8,9,10]\n",
    "for f in x:\n",
    "    product=product*f\n",
    "print(product)    \n"
   ]
  },
  {
   "cell_type": "code",
   "execution_count": 5,
   "id": "b5eda4fa-4f7f-4655-9af2-05e48f4d7cc4",
   "metadata": {},
   "outputs": [],
   "source": [
    "x=[1,2,3,4,5,6,7,8,9,10]\n",
    "\n"
   ]
  },
  {
   "cell_type": "code",
   "execution_count": 6,
   "id": "155be57f-b5f5-4804-8699-300343ae3dc2",
   "metadata": {},
   "outputs": [
    {
     "name": "stdout",
     "output_type": "stream",
     "text": [
      "None\n"
     ]
    }
   ],
   "source": [
    "print(x.sort())"
   ]
  },
  {
   "cell_type": "code",
   "execution_count": 7,
   "id": "ae48bd81-a6cc-46c2-aaf1-210b82bb8451",
   "metadata": {},
   "outputs": [
    {
     "data": {
      "text/plain": [
       "10"
      ]
     },
     "execution_count": 7,
     "metadata": {},
     "output_type": "execute_result"
    }
   ],
   "source": [
    "len(x)"
   ]
  },
  {
   "cell_type": "code",
   "execution_count": 8,
   "id": "75d6af6f-3c52-4fc8-8bdb-2869b0765cc1",
   "metadata": {},
   "outputs": [
    {
     "data": {
      "text/plain": [
       "10"
      ]
     },
     "execution_count": 8,
     "metadata": {},
     "output_type": "execute_result"
    }
   ],
   "source": [
    "max(x)"
   ]
  },
  {
   "cell_type": "code",
   "execution_count": 9,
   "id": "c0d91f1d-f51e-4ec8-ad92-15e7c97bcd7c",
   "metadata": {},
   "outputs": [
    {
     "data": {
      "text/plain": [
       "1"
      ]
     },
     "execution_count": 9,
     "metadata": {},
     "output_type": "execute_result"
    }
   ],
   "source": [
    "min(x)"
   ]
  },
  {
   "cell_type": "code",
   "execution_count": 13,
   "id": "efe73bd5-8f6c-4492-8fc1-a0d95745af37",
   "metadata": {},
   "outputs": [
    {
     "data": {
      "text/plain": [
       "0"
      ]
     },
     "execution_count": 13,
     "metadata": {},
     "output_type": "execute_result"
    }
   ],
   "source": [
    "x=[1,2,3,4,5,6,7,5]\n",
    "x.count(12)"
   ]
  },
  {
   "cell_type": "code",
   "execution_count": 19,
   "id": "1392b68a-52eb-4158-a22d-cf5210ee0f86",
   "metadata": {},
   "outputs": [
    {
     "name": "stdout",
     "output_type": "stream",
     "text": [
      "[1, 2, 3, 4, 5, 6, 7, 8, 9, 10, 11]\n"
     ]
    }
   ],
   "source": [
    "x=[1,2,3,4,5,6,7,8,9,10]\n",
    "x.append(11)\n",
    "print(x)"
   ]
  },
  {
   "cell_type": "code",
   "execution_count": 8,
   "id": "69edee3f-63b8-4042-bee3-9b50bb6c58bc",
   "metadata": {},
   "outputs": [
    {
     "name": "stdin",
     "output_type": "stream",
     "text": [
      "enter your name= shane\n",
      "enter your dept 1\n",
      "enter your name= sui\n",
      "enter your dept 2\n",
      "enter your name= king\n",
      "enter your dept 3\n",
      "enter your name= gorg\n",
      "enter your dept 2\n",
      "enter your name= shanapi\n",
      "enter your dept 3\n",
      "enter your name= dic\n",
      "enter your dept 1\n",
      "enter your name= enik\n",
      "enter your dept 2\n",
      "enter your name= ninak\n",
      "enter your dept 3\n",
      "enter your name= beem\n",
      "enter your dept 1\n",
      "enter your name= bom\n",
      "enter your dept 2\n"
     ]
    },
    {
     "name": "stdout",
     "output_type": "stream",
     "text": [
      "['shane', 'dic', 'beem'] ['sui', 'gorg', 'enik', 'bom'] ['king', 'shanapi', 'ninak']\n"
     ]
    }
   ],
   "source": [
    "bba=[]\n",
    "bcom=[]\n",
    "psy=[]\n",
    "\n",
    "for f in range(10):\n",
    "    x=input(\"enter your name=\")\n",
    "    y=int(input(\"enter your dept\"))\n",
    "    if y == 1:\n",
    "        bba.append(x)\n",
    "    if y == 2:\n",
    "        bcom.append(x)\n",
    "    if y == 3:\n",
    "        psy.append(x)\n",
    "print(bba,bcom,psy)    "
   ]
  },
  {
   "cell_type": "code",
   "execution_count": 9,
   "id": "affde172-1a45-4a8b-aab4-1a9eba09672b",
   "metadata": {},
   "outputs": [
    {
     "data": {
      "text/plain": [
       "['shane', 'dic', 'beem']"
      ]
     },
     "execution_count": 9,
     "metadata": {},
     "output_type": "execute_result"
    }
   ],
   "source": [
    "bba"
   ]
  },
  {
   "cell_type": "code",
   "execution_count": 10,
   "id": "68e28590-1abf-4806-8c04-7bc1dd3f1395",
   "metadata": {},
   "outputs": [
    {
     "data": {
      "text/plain": [
       "['sui', 'gorg', 'enik', 'bom']"
      ]
     },
     "execution_count": 10,
     "metadata": {},
     "output_type": "execute_result"
    }
   ],
   "source": [
    "bcom"
   ]
  },
  {
   "cell_type": "code",
   "execution_count": 11,
   "id": "9ccdf0b7-051f-4b10-a3d5-05686faa0ecc",
   "metadata": {},
   "outputs": [
    {
     "data": {
      "text/plain": [
       "['king', 'shanapi', 'ninak']"
      ]
     },
     "execution_count": 11,
     "metadata": {},
     "output_type": "execute_result"
    }
   ],
   "source": [
    "psy"
   ]
  },
  {
   "cell_type": "code",
   "execution_count": 15,
   "id": "7d771994-08c0-4e81-89a8-e46fe4b472a4",
   "metadata": {},
   "outputs": [
    {
     "name": "stdout",
     "output_type": "stream",
     "text": [
      "[1, 2, 3, 2, 4, 5, 6, 7, 8, 9, 10]\n"
     ]
    }
   ],
   "source": [
    "x=[1,2,3,4,5,6,7,8,9,10]\n",
    "x.insert(3,2)\n",
    "print(x)"
   ]
  },
  {
   "cell_type": "code",
   "execution_count": 17,
   "id": "73357707-f181-419d-bd2c-2f8a52cb0fa4",
   "metadata": {},
   "outputs": [
    {
     "name": "stdout",
     "output_type": "stream",
     "text": [
      "[10, 8, 10, 2, 4, 8]\n"
     ]
    }
   ],
   "source": [
    "x=[10,8,2,4,8]\n",
    "x.insert(2,10)\n",
    "print(x)"
   ]
  },
  {
   "cell_type": "code",
   "execution_count": null,
   "id": "f2e07fad-c0af-4192-a2c7-74d972abf47c",
   "metadata": {},
   "outputs": [],
   "source": []
  }
 ],
 "metadata": {
  "kernelspec": {
   "display_name": "Python 3",
   "language": "python",
   "name": "python3"
  },
  "language_info": {
   "codemirror_mode": {
    "name": "ipython",
    "version": 3
   },
   "file_extension": ".py",
   "mimetype": "text/x-python",
   "name": "python",
   "nbconvert_exporter": "python",
   "pygments_lexer": "ipython3",
   "version": "3.8.8"
  }
 },
 "nbformat": 4,
 "nbformat_minor": 5
}
